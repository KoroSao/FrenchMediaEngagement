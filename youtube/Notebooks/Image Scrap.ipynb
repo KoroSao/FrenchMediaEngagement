{
 "cells": [
  {
   "cell_type": "code",
   "execution_count": 45,
   "id": "6dfd73f2",
   "metadata": {},
   "outputs": [],
   "source": [
    "from colorthief import ColorThief\n",
    "import requests\n",
    "import os\n",
    "\n",
    "\n",
    "def scrap_color_from_link(url, n_color = 2):\n",
    "    img_data = requests.get(url).content\n",
    "    with open('papapapapapapapapapa.jpg', 'wb') as handler:\n",
    "        handler.write(img_data)\n",
    "    color_thief = ColorThief('papapapapapapapapapa.jpg')\n",
    "    palette = color_thief.get_palette(color_count=n_color)\n",
    "    os.remove('papapapapapapapapapa.jpg')\n",
    "    return palette"
   ]
  },
  {
   "cell_type": "code",
   "execution_count": 47,
   "id": "8fffeb66",
   "metadata": {},
   "outputs": [
    {
     "data": {
      "text/plain": [
       "[(85, 68, 75), (215, 194, 198), (164, 166, 173)]"
      ]
     },
     "execution_count": 47,
     "metadata": {},
     "output_type": "execute_result"
    }
   ],
   "source": [
    "url ='https://i.ytimg.com/vi/7AFdPyEt_0w/mqdefault.jpg'\n",
    "scrap_color_from_link(url)"
   ]
  },
  {
   "cell_type": "code",
   "execution_count": null,
   "id": "899c334e",
   "metadata": {},
   "outputs": [],
   "source": []
  }
 ],
 "metadata": {
  "kernelspec": {
   "display_name": "Python 3 (ipykernel)",
   "language": "python",
   "name": "python3"
  },
  "language_info": {
   "codemirror_mode": {
    "name": "ipython",
    "version": 3
   },
   "file_extension": ".py",
   "mimetype": "text/x-python",
   "name": "python",
   "nbconvert_exporter": "python",
   "pygments_lexer": "ipython3",
   "version": "3.9.7"
  }
 },
 "nbformat": 4,
 "nbformat_minor": 5
}
